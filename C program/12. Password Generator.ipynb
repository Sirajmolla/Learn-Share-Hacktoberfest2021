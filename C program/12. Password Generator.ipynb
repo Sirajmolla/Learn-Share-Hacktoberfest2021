{
  "nbformat": 4,
  "nbformat_minor": 0,
  "metadata": {
    "colab": {
      "name": "Untitled68.ipynb",
      "provenance": [],
      "collapsed_sections": []
    },
    "kernelspec": {
      "display_name": "Python 3",
      "name": "python3"
    },
    "language_info": {
      "name": "python"
    }
  },
  "cells": [
    {
      "cell_type": "markdown",
      "metadata": {
        "id": "iLzkMED4cvHl"
      },
      "source": [
        "## **Password generator**"
      ]
    },
    {
      "cell_type": "code",
      "metadata": {
        "id": "bD2i3Lztc8TW"
      },
      "source": [
        "#include<time.h>\n",
        "int main()\n",
        "{\n",
        "    int i,password,len;\n",
        "    srand((unsigned int)time(NULL));\n",
        "    printf(\"Enter Password Length and must be greater than 5\\n\");\n",
        "    scanf(\"%d\",&len);\n",
        "    if(len>=5){\n",
        "        for(i=0;i<len;i++){\n",
        "            int k=rand()%128;\n",
        "            if((k>=48&&k<=57)||(k>=65&&k<=90)||(k>=97&&k<=122)||(k>=35&&k<=37)||k==64){\n",
        "                printf(\"%c\",k); \n",
        "            }else{\n",
        "                i--;\n",
        "            }\n",
        "        }\n",
        "        printf(\"\\n\");\n",
        "    }else{\n",
        "        printf(\"Length should be greater than 5\\n\");\n",
        "    }\n",
        "    return(0);\n",
        "}"
      ],
      "execution_count": null,
      "outputs": []
    }
  ]
}
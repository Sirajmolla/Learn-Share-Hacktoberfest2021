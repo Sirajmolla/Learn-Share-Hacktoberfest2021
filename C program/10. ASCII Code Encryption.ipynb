{
  "nbformat": 4,
  "nbformat_minor": 0,
  "metadata": {
    "colab": {
      "name": "Untitled68.ipynb",
      "provenance": [],
      "collapsed_sections": []
    },
    "kernelspec": {
      "display_name": "Python 3",
      "name": "python3"
    },
    "language_info": {
      "name": "python"
    }
  },
  "cells": [
    {
      "cell_type": "markdown",
      "metadata": {
        "id": "iLzkMED4cvHl"
      },
      "source": [
        "## **ASCII Code Encryption**"
      ]
    },
    {
      "cell_type": "code",
      "metadata": {
        "id": "bD2i3Lztc8TW"
      },
      "source": [
        "#include<stdio.h>\n",
        "\n",
        "#include<string.h>\n",
        "int main(){\n",
        "    int i,temp,x,y=1,binary=0;\n",
        "    char str[1000];\n",
        "    printf(\"Enter a sentence\\n\");\n",
        "    gets(str);\n",
        "    i=0;\n",
        "    printf(\"Encrypted ASCII code\\n\");\n",
        "    while(str[i]!='\\0'){\n",
        "        printf(\"%d \",str[i]);\n",
        "        i++;\n",
        "    }\n",
        "    printf(\"\\n\");\n",
        "}"
      ],
      "execution_count": null,
      "outputs": []
    }
  ]
}
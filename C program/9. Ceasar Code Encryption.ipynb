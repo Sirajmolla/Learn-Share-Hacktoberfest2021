{
  "nbformat": 4,
  "nbformat_minor": 0,
  "metadata": {
    "colab": {
      "name": "Untitled68.ipynb",
      "provenance": [],
      "collapsed_sections": []
    },
    "kernelspec": {
      "display_name": "Python 3",
      "name": "python3"
    },
    "language_info": {
      "name": "python"
    }
  },
  "cells": [
    {
      "cell_type": "markdown",
      "metadata": {
        "id": "iLzkMED4cvHl"
      },
      "source": [
        "## **Caesar Code Encryption**"
      ]
    },
    {
      "cell_type": "code",
      "metadata": {
        "id": "bD2i3Lztc8TW"
      },
      "source": [
        "#include<stdio.h>\n",
        "#include<string.h>\n",
        "int main(){\n",
        "    int i,number;\n",
        "    char str[1000],str1[1000];\n",
        "    printf(\"Enter a sentence\\n\");\n",
        "    gets(str);\n",
        "    printf(\"Enter the number to change alphabetical order\\n\");\n",
        "    scanf(\"%d\",&number);\n",
        "    i=0;\n",
        "    printf(\"Encrypted Caesar code\\n\\n\");\n",
        "    while(str[i]!='\\0'){\n",
        "        if(!((str[i]>=0&&str[i]<65)||(str[i]>90&&str[i]<97)||(str[i]>122&&str[i]<=127))){\n",
        "            if((str[i]>'a'+number+1)&&(str[i]<='z'))\n",
        "                printf(\"%c\",str[i]-number-2);\n",
        "        else if((str[i]>'A'+number+1)&&(str[i]<='Z'))\n",
        "            printf(\"%c\",str[i]-number-2);\n",
        "        else\n",
        "            printf(\"%c\",str[i]+24-number);\n",
        "\n",
        "        }\n",
        "        if(((str[i]>=0&&str[i]<65)||(str[i]>90&&str[i]<97)||(str[i]>122&&str[i]<=127))){\n",
        "            printf(\"%c\",str[i]);\n",
        "        }\n",
        "        i++;\n",
        "    }\n",
        "    printf(\"\\n\");\n",
        "\n",
        "}"
      ],
      "execution_count": null,
      "outputs": []
    }
  ]
}